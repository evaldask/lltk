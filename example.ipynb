{
 "cells": [
  {
   "cell_type": "code",
   "execution_count": 1,
   "metadata": {
    "collapsed": true
   },
   "outputs": [],
   "source": [
    "from lltk import Smmry"
   ]
  },
  {
   "cell_type": "code",
   "execution_count": 2,
   "metadata": {},
   "outputs": [
    {
     "name": "stdout",
     "output_type": "stream",
     "text": [
      "[('Iš K. Baršausko gatvės įvažiuojant į žiedą iš 3 juostų į Pramonės prospektą lieka tik dvi, nes pirmoji juosta iš K. Baršausko gatvės nusisuka į M. Riomerio gatvę arba Petrašiūnus.', 60), ('Tačiau šiuo metu yra montuojamas dar vienas papildomas kelio ženklas - važiuojant iš K. Baršausko gatvės pusės tam, kad būtų aiškiau pastebėti, jog į Petrašiūnus galima važiuoti tik pirmąja eismo juosta.', 68), ('Gatvės ženklinimo darbai baigti, netrukus K. Baršausko gatvėje bus sumontuotas papildomas kelio ženklas, kurio dėka vairuotojai dar aiškiau matys, kad į Petrašiūnus galima važiuoti tik pirmąja eismo juosta\", - teigė P. Keras.', 80)]\n",
      "[('gatv', 9), ('eismo', 8), ('baršausko', 7)]\n"
     ]
    }
   ],
   "source": [
    "smmry = Smmry()\n",
    "# text from: http://kaunas.kasvyksta.lt/2017/06/27/eismas/vairuotojams-pasikeite-zymejimas-vienoje-is-judriausiu-kauno-ziediniu-sankryzu/\n",
    "paragraph = \"„Šiąnakt, kaip suprantu, žymėjo gatves ir žiedines sankryžas Kaune. Pastebėjau, jog pakeitė „6-to forto“ žiedinės sankryžos juostas. Iš K. Baršausko gatvės įvažiuojant į žiedą iš 3 juostų į Pramonės prospektą lieka tik dvi, nes pirmoji juosta iš K. Baršausko gatvės nusisuka į M. Riomerio gatvę arba Petrašiūnus. Kodėl nebuvo pranešta, kad keisis žymėjimas ir nėra pastatytų kelio ženklų?“, – teiraujasi skaitytojas Vytautas. Portalo „Kas vyksta Kaune“ žurnalistai apie pakeitimus „6-to forto“ žiedinėje sankryžoje nusprendė pasiteirauti Transporto ir eismo organizavimo skyriaus vedėjo Pauliaus Kero. „Šiuo metu vykdomi darbai – minėtos žiedinės sankryžos juostų žymėjimas, o kartu su juo netrukus pasikeis ir kelio ženklai. Jie bus įrengti šiandien. Apie pakeitimus kauniečius tikrai informuosime. Tą ketiname padaryti iškart baigus vykdyti numatytus darbus“, – komentavo jis. Pasak P. Kero, žiedinėje „6-to forto“ sankryžoje šiek tiek pasikeitė juostų žymėjimas – išvažiavimai, įvažiavimai iš žiedo. Tačiau, jo teigimu, jei vairuotojai sąžiningai laikosi horizontalaus ženklinimo, naujovės neturėtų sukelti problemų“, – teigė Transporto ir eismo organizavimo skyriaus vedėjas. Atvažiavus nuo K. Baršausko gatvės pirma eismo juosta paliekama važiuojantiems link Petrašiūnų. Nuo K. Baršausko g. važiuojant link Pramonės prospekto vairuotojai turėtų rinktis antrąją ar trečiąją eismo juostas. Važiuojant šiomis eismo juostomis į Pramonės prospektą bus galima patekti nepersirikiuojant žiede. Tuo tarpu įvažiavimo iš Kovo 11-osios gatvės ir Pramonės pr. į žiedinę sankryžą tvarka liko nepakitusi. P. Kero teigimu, K. Baršausko gatvėje nė vienas kelio ženklas neprieštarauja dabartinėms kelių eismo taisyklėms. Tačiau šiuo metu yra montuojamas dar vienas papildomas kelio ženklas – važiuojant iš K. Baršausko gatvės pusės tam, kad būtų aiškiau pastebėti, jog į Petrašiūnus galima važiuoti tik pirmąja eismo juosta. „Žiedo laidumas mažėdavo dėl pačiame žiede persirikiuojančių automobilių. Šiek tiek pakoregavus tvarką, žiede sumažės kamščių tikimybė. Gatvės ženklinimo darbai baigti, netrukus K. Baršausko gatvėje bus sumontuotas papildomas kelio ženklas, kurio dėka vairuotojai dar aiškiau matys, kad į Petrašiūnus galima važiuoti tik pirmąja eismo juosta“, – teigė P. Keras.\"\n",
    "\n",
    "sentences, words = smmry.summarize(paragraph, 3, 3)\n",
    "print(sentences)\n",
    "print(words)"
   ]
  },
  {
   "cell_type": "code",
   "execution_count": null,
   "metadata": {
    "collapsed": true
   },
   "outputs": [],
   "source": []
  }
 ],
 "metadata": {
  "kernelspec": {
   "display_name": "Python 3",
   "language": "python",
   "name": "python3"
  },
  "language_info": {
   "codemirror_mode": {
    "name": "ipython",
    "version": 3
   },
   "file_extension": ".py",
   "mimetype": "text/x-python",
   "name": "python",
   "nbconvert_exporter": "python",
   "pygments_lexer": "ipython3",
   "version": "3.4.3"
  }
 },
 "nbformat": 4,
 "nbformat_minor": 2
}
